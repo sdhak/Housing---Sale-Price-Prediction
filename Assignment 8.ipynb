{
 "cells": [
  {
   "cell_type": "code",
   "execution_count": 1,
   "metadata": {},
   "outputs": [],
   "source": [
    "from datascience import *\n",
    "import pandas as pd\n",
    "import seaborn as sns\n",
    "import numpy as np\n",
    "import matplotlib\n",
    "matplotlib.use(\"Agg\", warn=False)\n",
    "%matplotlib inline\n",
    "import matplotlib.pyplot as plt\n",
    "plt.style.use('fivethirtyeight')"
   ]
  },
  {
   "cell_type": "markdown",
   "metadata": {},
   "source": [
    "# 1.\n",
    "Develop a question of your choice that can be addressed by identifying, collecting, and analyzing relevant data. You need to find relevant data by yourself, and describe the data such as the source,  attributes,  size,  how the data were collected, is the dataset sample data or population data?,etc.  The dataset should have at least six distinct variables (i.e. columns) and a sample size (i.e. rows) of 500 or more. (3 points)"
   ]
  },
  {
   "cell_type": "markdown",
   "metadata": {},
   "source": [
    ">I chose the Housing dataset on [Kaggle](https://www.kaggle.com/c/house-prices-advanced-regression-techniques) that has two data files - train.csv and test.csv - used for training and testing the models. I will use the data from train.csv in this project as I am only interested to look at the first 1460 houses in Ames, Iowa. I will split this dataset into training and testing to predict the final sale price of a home. This data set has 81 attributes and 1460 rows, and includes attributes such as Lot Frontage, Lot Area, Neighborhood, Condition, House Style, Year Built, Year Remodeled, Foundation, Total Rooms Above Ground, Garage Type, etc. of residential homes in Ames. For this project; however, I am only interested to look at the relationship between the living area above ground represented by the variable \"GrLivArea\" and the final sale price of a home represented by the variable \"SalePrice\". Both of these variables have numeric data types, so it is relatively easier to manipulate the data. This is a population data set. The goal here is to see if a linear relationship exixts between these two variables and if it does, to predict the sale price based on the living area above ground.\n",
    "#### Project Objective: Can we predict sale price based on living area above ground?"
   ]
  },
  {
   "cell_type": "markdown",
   "metadata": {},
   "source": [
    "# 2 & 3.\n",
    "Perform exploratory data analysis (EDA). Describe the EDA process and result with at least four data visualizations.  Explain whether the data is sufficient to answer the question you developed based on EDA result.  If it is not sufficient, how did you address the issue?  (3 points)\n",
    "\n",
    "Describe any data cleaning or transformations that you perform and why they are motivated by your EDA? (2 point)"
   ]
  },
  {
   "cell_type": "code",
   "execution_count": 2,
   "metadata": {},
   "outputs": [],
   "source": [
    "train = pd.read_csv(\"/Users/shristidhakal/Documents/Grad School/INFO5502/Housing/train.csv\")\n",
    "test = pd.read_csv(\"/Users/shristidhakal/Documents/Grad School/INFO5502/Housing/test.csv\")"
   ]
  },
  {
   "cell_type": "markdown",
   "metadata": {},
   "source": [
    "#### EDA 1: Understanding the Data"
   ]
  },
  {
   "cell_type": "code",
   "execution_count": 3,
   "metadata": {},
   "outputs": [
    {
     "data": {
      "text/html": [
       "<div>\n",
       "<style scoped>\n",
       "    .dataframe tbody tr th:only-of-type {\n",
       "        vertical-align: middle;\n",
       "    }\n",
       "\n",
       "    .dataframe tbody tr th {\n",
       "        vertical-align: top;\n",
       "    }\n",
       "\n",
       "    .dataframe thead th {\n",
       "        text-align: right;\n",
       "    }\n",
       "</style>\n",
       "<table border=\"1\" class=\"dataframe\">\n",
       "  <thead>\n",
       "    <tr style=\"text-align: right;\">\n",
       "      <th></th>\n",
       "      <th>Id</th>\n",
       "      <th>MSSubClass</th>\n",
       "      <th>MSZoning</th>\n",
       "      <th>LotFrontage</th>\n",
       "      <th>LotArea</th>\n",
       "      <th>Street</th>\n",
       "      <th>Alley</th>\n",
       "      <th>LotShape</th>\n",
       "      <th>LandContour</th>\n",
       "      <th>Utilities</th>\n",
       "      <th>...</th>\n",
       "      <th>PoolArea</th>\n",
       "      <th>PoolQC</th>\n",
       "      <th>Fence</th>\n",
       "      <th>MiscFeature</th>\n",
       "      <th>MiscVal</th>\n",
       "      <th>MoSold</th>\n",
       "      <th>YrSold</th>\n",
       "      <th>SaleType</th>\n",
       "      <th>SaleCondition</th>\n",
       "      <th>SalePrice</th>\n",
       "    </tr>\n",
       "  </thead>\n",
       "  <tbody>\n",
       "    <tr>\n",
       "      <td>0</td>\n",
       "      <td>1</td>\n",
       "      <td>60</td>\n",
       "      <td>RL</td>\n",
       "      <td>65.0</td>\n",
       "      <td>8450</td>\n",
       "      <td>Pave</td>\n",
       "      <td>NaN</td>\n",
       "      <td>Reg</td>\n",
       "      <td>Lvl</td>\n",
       "      <td>AllPub</td>\n",
       "      <td>...</td>\n",
       "      <td>0</td>\n",
       "      <td>NaN</td>\n",
       "      <td>NaN</td>\n",
       "      <td>NaN</td>\n",
       "      <td>0</td>\n",
       "      <td>2</td>\n",
       "      <td>2008</td>\n",
       "      <td>WD</td>\n",
       "      <td>Normal</td>\n",
       "      <td>208500</td>\n",
       "    </tr>\n",
       "    <tr>\n",
       "      <td>1</td>\n",
       "      <td>2</td>\n",
       "      <td>20</td>\n",
       "      <td>RL</td>\n",
       "      <td>80.0</td>\n",
       "      <td>9600</td>\n",
       "      <td>Pave</td>\n",
       "      <td>NaN</td>\n",
       "      <td>Reg</td>\n",
       "      <td>Lvl</td>\n",
       "      <td>AllPub</td>\n",
       "      <td>...</td>\n",
       "      <td>0</td>\n",
       "      <td>NaN</td>\n",
       "      <td>NaN</td>\n",
       "      <td>NaN</td>\n",
       "      <td>0</td>\n",
       "      <td>5</td>\n",
       "      <td>2007</td>\n",
       "      <td>WD</td>\n",
       "      <td>Normal</td>\n",
       "      <td>181500</td>\n",
       "    </tr>\n",
       "    <tr>\n",
       "      <td>2</td>\n",
       "      <td>3</td>\n",
       "      <td>60</td>\n",
       "      <td>RL</td>\n",
       "      <td>68.0</td>\n",
       "      <td>11250</td>\n",
       "      <td>Pave</td>\n",
       "      <td>NaN</td>\n",
       "      <td>IR1</td>\n",
       "      <td>Lvl</td>\n",
       "      <td>AllPub</td>\n",
       "      <td>...</td>\n",
       "      <td>0</td>\n",
       "      <td>NaN</td>\n",
       "      <td>NaN</td>\n",
       "      <td>NaN</td>\n",
       "      <td>0</td>\n",
       "      <td>9</td>\n",
       "      <td>2008</td>\n",
       "      <td>WD</td>\n",
       "      <td>Normal</td>\n",
       "      <td>223500</td>\n",
       "    </tr>\n",
       "  </tbody>\n",
       "</table>\n",
       "<p>3 rows × 81 columns</p>\n",
       "</div>"
      ],
      "text/plain": [
       "   Id  MSSubClass MSZoning  LotFrontage  LotArea Street Alley LotShape  \\\n",
       "0   1          60       RL         65.0     8450   Pave   NaN      Reg   \n",
       "1   2          20       RL         80.0     9600   Pave   NaN      Reg   \n",
       "2   3          60       RL         68.0    11250   Pave   NaN      IR1   \n",
       "\n",
       "  LandContour Utilities  ... PoolArea PoolQC Fence MiscFeature MiscVal MoSold  \\\n",
       "0         Lvl    AllPub  ...        0    NaN   NaN         NaN       0      2   \n",
       "1         Lvl    AllPub  ...        0    NaN   NaN         NaN       0      5   \n",
       "2         Lvl    AllPub  ...        0    NaN   NaN         NaN       0      9   \n",
       "\n",
       "  YrSold  SaleType  SaleCondition  SalePrice  \n",
       "0   2008        WD         Normal     208500  \n",
       "1   2007        WD         Normal     181500  \n",
       "2   2008        WD         Normal     223500  \n",
       "\n",
       "[3 rows x 81 columns]"
      ]
     },
     "execution_count": 3,
     "metadata": {},
     "output_type": "execute_result"
    }
   ],
   "source": [
    "train.head(3)"
   ]
  },
  {
   "cell_type": "markdown",
   "metadata": {},
   "source": [
    ">One of the keys to effective data analysis is selecting variables that're relevant to your project objective. There are a lot of variables in this data set that I will not need to achieve my project goal, so I will only select the variables that I need. "
   ]
  },
  {
   "cell_type": "markdown",
   "metadata": {},
   "source": [
    "#### EDA 2: Variable(s) Selection\n",
    "Since I'm interested to know the relationship between living area above ground and the sale price, I select the variables \"GrLivArea\" and \"SalePrice\" manually, plus the variable \"YearBuilt\" just to see if this provides any interesting insight in addition to the other two variables. This ensures no redundancy in the data since now there are only three variables and they are very distinct from each other. The data narrowed down after variables selection will be stored in a new variable \"all_data\", which will be used in rest of the project. "
   ]
  },
  {
   "cell_type": "code",
   "execution_count": 4,
   "metadata": {},
   "outputs": [
    {
     "name": "stdout",
     "output_type": "stream",
     "text": [
      "(1460, 3)\n"
     ]
    },
    {
     "data": {
      "text/html": [
       "<div>\n",
       "<style scoped>\n",
       "    .dataframe tbody tr th:only-of-type {\n",
       "        vertical-align: middle;\n",
       "    }\n",
       "\n",
       "    .dataframe tbody tr th {\n",
       "        vertical-align: top;\n",
       "    }\n",
       "\n",
       "    .dataframe thead th {\n",
       "        text-align: right;\n",
       "    }\n",
       "</style>\n",
       "<table border=\"1\" class=\"dataframe\">\n",
       "  <thead>\n",
       "    <tr style=\"text-align: right;\">\n",
       "      <th></th>\n",
       "      <th>GrLivArea</th>\n",
       "      <th>SalePrice</th>\n",
       "      <th>YearBuilt</th>\n",
       "    </tr>\n",
       "  </thead>\n",
       "  <tbody>\n",
       "    <tr>\n",
       "      <td>0</td>\n",
       "      <td>1710</td>\n",
       "      <td>208500</td>\n",
       "      <td>2003</td>\n",
       "    </tr>\n",
       "    <tr>\n",
       "      <td>1</td>\n",
       "      <td>1262</td>\n",
       "      <td>181500</td>\n",
       "      <td>1976</td>\n",
       "    </tr>\n",
       "    <tr>\n",
       "      <td>2</td>\n",
       "      <td>1786</td>\n",
       "      <td>223500</td>\n",
       "      <td>2001</td>\n",
       "    </tr>\n",
       "    <tr>\n",
       "      <td>3</td>\n",
       "      <td>1717</td>\n",
       "      <td>140000</td>\n",
       "      <td>1915</td>\n",
       "    </tr>\n",
       "    <tr>\n",
       "      <td>4</td>\n",
       "      <td>2198</td>\n",
       "      <td>250000</td>\n",
       "      <td>2000</td>\n",
       "    </tr>\n",
       "  </tbody>\n",
       "</table>\n",
       "</div>"
      ],
      "text/plain": [
       "   GrLivArea  SalePrice  YearBuilt\n",
       "0       1710     208500       2003\n",
       "1       1262     181500       1976\n",
       "2       1786     223500       2001\n",
       "3       1717     140000       1915\n",
       "4       2198     250000       2000"
      ]
     },
     "execution_count": 4,
     "metadata": {},
     "output_type": "execute_result"
    }
   ],
   "source": [
    "all_data = train.loc[:,['GrLivArea','SalePrice', 'YearBuilt']]\n",
    "print(all_data.shape) #Dimensions of the dataframe\n",
    "all_data.head(5)"
   ]
  },
  {
   "cell_type": "code",
   "execution_count": 5,
   "metadata": {},
   "outputs": [
    {
     "data": {
      "text/html": [
       "<div>\n",
       "<style scoped>\n",
       "    .dataframe tbody tr th:only-of-type {\n",
       "        vertical-align: middle;\n",
       "    }\n",
       "\n",
       "    .dataframe tbody tr th {\n",
       "        vertical-align: top;\n",
       "    }\n",
       "\n",
       "    .dataframe thead th {\n",
       "        text-align: right;\n",
       "    }\n",
       "</style>\n",
       "<table border=\"1\" class=\"dataframe\">\n",
       "  <thead>\n",
       "    <tr style=\"text-align: right;\">\n",
       "      <th></th>\n",
       "      <th>GrLivArea</th>\n",
       "      <th>SalePrice</th>\n",
       "      <th>YearBuilt</th>\n",
       "    </tr>\n",
       "  </thead>\n",
       "  <tbody>\n",
       "    <tr>\n",
       "      <td>count</td>\n",
       "      <td>1460.000000</td>\n",
       "      <td>1460.000000</td>\n",
       "      <td>1460.000000</td>\n",
       "    </tr>\n",
       "    <tr>\n",
       "      <td>mean</td>\n",
       "      <td>1515.463699</td>\n",
       "      <td>180921.195890</td>\n",
       "      <td>1971.267808</td>\n",
       "    </tr>\n",
       "    <tr>\n",
       "      <td>std</td>\n",
       "      <td>525.480383</td>\n",
       "      <td>79442.502883</td>\n",
       "      <td>30.202904</td>\n",
       "    </tr>\n",
       "    <tr>\n",
       "      <td>min</td>\n",
       "      <td>334.000000</td>\n",
       "      <td>34900.000000</td>\n",
       "      <td>1872.000000</td>\n",
       "    </tr>\n",
       "    <tr>\n",
       "      <td>25%</td>\n",
       "      <td>1129.500000</td>\n",
       "      <td>129975.000000</td>\n",
       "      <td>1954.000000</td>\n",
       "    </tr>\n",
       "    <tr>\n",
       "      <td>50%</td>\n",
       "      <td>1464.000000</td>\n",
       "      <td>163000.000000</td>\n",
       "      <td>1973.000000</td>\n",
       "    </tr>\n",
       "    <tr>\n",
       "      <td>75%</td>\n",
       "      <td>1776.750000</td>\n",
       "      <td>214000.000000</td>\n",
       "      <td>2000.000000</td>\n",
       "    </tr>\n",
       "    <tr>\n",
       "      <td>max</td>\n",
       "      <td>5642.000000</td>\n",
       "      <td>755000.000000</td>\n",
       "      <td>2010.000000</td>\n",
       "    </tr>\n",
       "  </tbody>\n",
       "</table>\n",
       "</div>"
      ],
      "text/plain": [
       "         GrLivArea      SalePrice    YearBuilt\n",
       "count  1460.000000    1460.000000  1460.000000\n",
       "mean   1515.463699  180921.195890  1971.267808\n",
       "std     525.480383   79442.502883    30.202904\n",
       "min     334.000000   34900.000000  1872.000000\n",
       "25%    1129.500000  129975.000000  1954.000000\n",
       "50%    1464.000000  163000.000000  1973.000000\n",
       "75%    1776.750000  214000.000000  2000.000000\n",
       "max    5642.000000  755000.000000  2010.000000"
      ]
     },
     "execution_count": 5,
     "metadata": {},
     "output_type": "execute_result"
    }
   ],
   "source": [
    "all_data.describe() #statistics of the variables"
   ]
  },
  {
   "cell_type": "markdown",
   "metadata": {},
   "source": [
    ">The mean of YearBuilt is 1971.27, which means that we have more data for the recent years; the mean is much closer to the maximum value of 2010 than to the minimum value of 1872. Also, we see that sale price of homes range from 34900 dollars to 755000 dollars and the average is 180921.196 dollars, which is much closer to the min value than the max value. "
   ]
  },
  {
   "cell_type": "markdown",
   "metadata": {},
   "source": [
    "#### EDA 3: Checking for Null Values"
   ]
  },
  {
   "cell_type": "code",
   "execution_count": 6,
   "metadata": {},
   "outputs": [
    {
     "data": {
      "text/plain": [
       "False"
      ]
     },
     "execution_count": 6,
     "metadata": {},
     "output_type": "execute_result"
    }
   ],
   "source": [
    "all_data.isnull().values.any()"
   ]
  },
  {
   "cell_type": "markdown",
   "metadata": {},
   "source": [
    ">Since there are no null values in the data set, there is no need to drop or impute any values."
   ]
  },
  {
   "cell_type": "markdown",
   "metadata": {},
   "source": [
    "#### EDA 4: Visualizations and Identifying Outliers"
   ]
  },
  {
   "cell_type": "markdown",
   "metadata": {},
   "source": [
    "Next, we'll see if a linear relationship exists between GrLivArea and SalePrice or not and check if there are any outliers that are skewing some of the statistics. "
   ]
  },
  {
   "cell_type": "code",
   "execution_count": 7,
   "metadata": {},
   "outputs": [
    {
     "data": {
      "text/plain": [
       "<matplotlib.axes._subplots.AxesSubplot at 0x1a1c0218d0>"
      ]
     },
     "execution_count": 7,
     "metadata": {},
     "output_type": "execute_result"
    },
    {
     "data": {
      "image/png": "[encoded data removed]",
      "text/plain": [
       "<Figure size 432x288 with 1 Axes>"
      ]
     },
     "metadata": {},
     "output_type": "display_data"
    }
   ],
   "source": [
    "#Scatterplot\n",
    "all_data.plot.scatter('GrLivArea', 'SalePrice')"
   ]
  },
  {
   "cell_type": "markdown",
   "metadata": {},
   "source": [
    ">The plot looks more or less linear; however, it appears that there are a couple outliers present towards the bottom right of the plot. If the general pattern is that the sale price of a home increases with the increase in the living area above ground, it is difficult to make sense about what is going on with the two data points at the bottom right because their sale prices are very low given that their respective values for GrLivArea are high. "
   ]
  },
  {
   "cell_type": "code",
   "execution_count": 8,
   "metadata": {
    "scrolled": true
   },
   "outputs": [
    {
     "data": {
      "image/png": "[encoded data removed]",
      "text/plain": [
       "<Figure size 360x360 with 1 Axes>"
      ]
     },
     "metadata": {},
     "output_type": "display_data"
    }
   ],
   "source": [
    "#Lineplot using seaborn\n",
    "plot = sns.relplot(x=\"GrLivArea\", y=\"SalePrice\", kind=\"line\", color='olive', data=all_data)\n",
    "plot.fig.autofmt_xdate()"
   ]
  },
  {
   "cell_type": "code",
   "execution_count": 9,
   "metadata": {},
   "outputs": [
    {
     "data": {
      "text/plain": [
       "array([[<matplotlib.axes._subplots.AxesSubplot object at 0x10792bb90>,\n",
       "        <matplotlib.axes._subplots.AxesSubplot object at 0x1a1c14d890>],\n",
       "       [<matplotlib.axes._subplots.AxesSubplot object at 0x1a1c19a8d0>,\n",
       "        <matplotlib.axes._subplots.AxesSubplot object at 0x1a1c3dd110>]],\n",
       "      dtype=object)"
      ]
     },
     "execution_count": 9,
     "metadata": {},
     "output_type": "execute_result"
    },
    {
     "data": {
      "image/png": "[encoded data removed]",
      "text/plain": [
       "<Figure size 432x288 with 4 Axes>"
      ]
     },
     "metadata": {},
     "output_type": "display_data"
    }
   ],
   "source": [
    "#Histogram\n",
    "all_data.hist()"
   ]
  },
  {
   "cell_type": "markdown",
   "metadata": {},
   "source": [
    ">Both GrLivArea and SalePrice have right-tailed histograms with majority values falling towards the left."
   ]
  },
  {
   "cell_type": "code",
   "execution_count": 10,
   "metadata": {},
   "outputs": [
    {
     "data": {
      "text/plain": [
       "<matplotlib.axes._subplots.AxesSubplot at 0x1a1c55f450>"
      ]
     },
     "execution_count": 10,
     "metadata": {},
     "output_type": "execute_result"
    },
    {
     "data": {
      "image/png": "[encoded data removed]",
      "text/plain": [
       "<Figure size 432x288 with 2 Axes>"
      ]
     },
     "metadata": {},
     "output_type": "display_data"
    }
   ],
   "source": [
    "#Heatmap\n",
    "heatmap_data = all_data.drop(['YearBuilt'],axis=1)\n",
    "sns.set()\n",
    "sns.heatmap(heatmap_data.groupby('GrLivArea').mean())"
   ]
  },
  {
   "cell_type": "markdown",
   "metadata": {},
   "source": [
    ">The heatmap shows the same pattern as the scatterplot i.e. sale price seems to increase as the living area above ground increases."
   ]
  },
  {
   "cell_type": "markdown",
   "metadata": {},
   "source": [
    "Let's remove the two outliers and see how the statistics change. "
   ]
  },
  {
   "cell_type": "code",
   "execution_count": 11,
   "metadata": {},
   "outputs": [
    {
     "data": {
      "text/html": [
       "<div>\n",
       "<style scoped>\n",
       "    .dataframe tbody tr th:only-of-type {\n",
       "        vertical-align: middle;\n",
       "    }\n",
       "\n",
       "    .dataframe tbody tr th {\n",
       "        vertical-align: top;\n",
       "    }\n",
       "\n",
       "    .dataframe thead th {\n",
       "        text-align: right;\n",
       "    }\n",
       "</style>\n",
       "<table border=\"1\" class=\"dataframe\">\n",
       "  <thead>\n",
       "    <tr style=\"text-align: right;\">\n",
       "      <th></th>\n",
       "      <th>GrLivArea</th>\n",
       "      <th>SalePrice</th>\n",
       "      <th>YearBuilt</th>\n",
       "    </tr>\n",
       "  </thead>\n",
       "  <tbody>\n",
       "    <tr>\n",
       "      <td>count</td>\n",
       "      <td>1458.000000</td>\n",
       "      <td>1458.000000</td>\n",
       "      <td>1458.000000</td>\n",
       "    </tr>\n",
       "    <tr>\n",
       "      <td>mean</td>\n",
       "      <td>1510.465706</td>\n",
       "      <td>180932.919067</td>\n",
       "      <td>1971.218107</td>\n",
       "    </tr>\n",
       "    <tr>\n",
       "      <td>std</td>\n",
       "      <td>507.878508</td>\n",
       "      <td>79495.055285</td>\n",
       "      <td>30.193754</td>\n",
       "    </tr>\n",
       "    <tr>\n",
       "      <td>min</td>\n",
       "      <td>334.000000</td>\n",
       "      <td>34900.000000</td>\n",
       "      <td>1872.000000</td>\n",
       "    </tr>\n",
       "    <tr>\n",
       "      <td>25%</td>\n",
       "      <td>1128.500000</td>\n",
       "      <td>129925.000000</td>\n",
       "      <td>1954.000000</td>\n",
       "    </tr>\n",
       "    <tr>\n",
       "      <td>50%</td>\n",
       "      <td>1461.500000</td>\n",
       "      <td>163000.000000</td>\n",
       "      <td>1972.500000</td>\n",
       "    </tr>\n",
       "    <tr>\n",
       "      <td>75%</td>\n",
       "      <td>1776.000000</td>\n",
       "      <td>214000.000000</td>\n",
       "      <td>2000.000000</td>\n",
       "    </tr>\n",
       "    <tr>\n",
       "      <td>max</td>\n",
       "      <td>4476.000000</td>\n",
       "      <td>755000.000000</td>\n",
       "      <td>2010.000000</td>\n",
       "    </tr>\n",
       "  </tbody>\n",
       "</table>\n",
       "</div>"
      ],
      "text/plain": [
       "         GrLivArea      SalePrice    YearBuilt\n",
       "count  1458.000000    1458.000000  1458.000000\n",
       "mean   1510.465706  180932.919067  1971.218107\n",
       "std     507.878508   79495.055285    30.193754\n",
       "min     334.000000   34900.000000  1872.000000\n",
       "25%    1128.500000  129925.000000  1954.000000\n",
       "50%    1461.500000  163000.000000  1972.500000\n",
       "75%    1776.000000  214000.000000  2000.000000\n",
       "max    4476.000000  755000.000000  2010.000000"
      ]
     },
     "execution_count": 11,
     "metadata": {},
     "output_type": "execute_result"
    }
   ],
   "source": [
    "new_data = all_data[all_data['GrLivArea']<4500]\n",
    "new_data.describe()"
   ]
  },
  {
   "cell_type": "markdown",
   "metadata": {},
   "source": [
    ">The new statistics after removing the outliers is slightly different than the statistics including those data points. This may not make a lot of difference in the analysis, but it is still better to remove exceptions like this for more interpretable results. So, I'll use the new data without the outliers."
   ]
  },
  {
   "cell_type": "markdown",
   "metadata": {},
   "source": [
    "The data seems to be sufficient to answer the question \"Can we predict sale price of a home based on the living area of the home above ground?\" because we can already see in the visualizations above a linear relationship between GrLivArea and SalePrice. Also, there are 1460 rows of data - this appears to be enough to split into training and validation and get at least satisfactory results."
   ]
  },
  {
   "cell_type": "markdown",
   "metadata": {},
   "source": [
    "# 4.\n",
    "Apply relevant inference or predication methods such as linear regression or K-nearest neighborhood (KNN)to  analyze  your  processed data, and validate the analysis results using cross-validation.  Explain the training  process,  and  the  loss  functions  used  in  the  analysis.   Using  examples (i.e.  the values of the loss functions) to explain how the minimal value(s) of the loss function is/are found.  (7 points)"
   ]
  },
  {
   "cell_type": "markdown",
   "metadata": {},
   "source": [
    ">I'll use the linear regression prediction method since all data is numeric. However, the data needs to be normalized before using it in modeling so that values in one variable do not overweight the values in other variable(s) leading to inaccurate results. In this case, the unit in which sale prices are measured (U.S. dollars) is different than the unit in which the living area above ground is measured (square ft.), so we do not want sale prices to outweigh the living area values. "
   ]
  },
  {
   "cell_type": "markdown",
   "metadata": {},
   "source": [
    "#### Normalization"
   ]
  },
  {
   "cell_type": "code",
   "execution_count": 12,
   "metadata": {},
   "outputs": [
    {
     "name": "stderr",
     "output_type": "stream",
     "text": [
      "/Users/shristidhakal/opt/anaconda3/lib/python3.7/site-packages/ipykernel_launcher.py:7: SettingWithCopyWarning: \n",
      "A value is trying to be set on a copy of a slice from a DataFrame.\n",
      "Try using .loc[row_indexer,col_indexer] = value instead\n",
      "\n",
      "See the caveats in the documentation: http://pandas.pydata.org/pandas-docs/stable/user_guide/indexing.html#returning-a-view-versus-a-copy\n",
      "  import sys\n",
      "/Users/shristidhakal/opt/anaconda3/lib/python3.7/site-packages/ipykernel_launcher.py:9: SettingWithCopyWarning: \n",
      "A value is trying to be set on a copy of a slice from a DataFrame.\n",
      "Try using .loc[row_indexer,col_indexer] = value instead\n",
      "\n",
      "See the caveats in the documentation: http://pandas.pydata.org/pandas-docs/stable/user_guide/indexing.html#returning-a-view-versus-a-copy\n",
      "  if __name__ == '__main__':\n"
     ]
    },
    {
     "data": {
      "text/html": [
       "<div>\n",
       "<style scoped>\n",
       "    .dataframe tbody tr th:only-of-type {\n",
       "        vertical-align: middle;\n",
       "    }\n",
       "\n",
       "    .dataframe tbody tr th {\n",
       "        vertical-align: top;\n",
       "    }\n",
       "\n",
       "    .dataframe thead th {\n",
       "        text-align: right;\n",
       "    }\n",
       "</style>\n",
       "<table border=\"1\" class=\"dataframe\">\n",
       "  <thead>\n",
       "    <tr style=\"text-align: right;\">\n",
       "      <th></th>\n",
       "      <th>GrLivArea</th>\n",
       "      <th>SalePrice</th>\n",
       "      <th>YearBuilt</th>\n",
       "    </tr>\n",
       "  </thead>\n",
       "  <tbody>\n",
       "    <tr>\n",
       "      <td>0</td>\n",
       "      <td>6.644133</td>\n",
       "      <td>4.821553</td>\n",
       "      <td>2003</td>\n",
       "    </tr>\n",
       "    <tr>\n",
       "      <td>1</td>\n",
       "      <td>4.480927</td>\n",
       "      <td>4.071657</td>\n",
       "      <td>1976</td>\n",
       "    </tr>\n",
       "    <tr>\n",
       "      <td>2</td>\n",
       "      <td>7.011106</td>\n",
       "      <td>5.238161</td>\n",
       "      <td>2001</td>\n",
       "    </tr>\n",
       "    <tr>\n",
       "      <td>3</td>\n",
       "      <td>6.677933</td>\n",
       "      <td>2.919039</td>\n",
       "      <td>1915</td>\n",
       "    </tr>\n",
       "    <tr>\n",
       "      <td>4</td>\n",
       "      <td>9.000483</td>\n",
       "      <td>5.974170</td>\n",
       "      <td>2000</td>\n",
       "    </tr>\n",
       "  </tbody>\n",
       "</table>\n",
       "</div>"
      ],
      "text/plain": [
       "   GrLivArea  SalePrice  YearBuilt\n",
       "0   6.644133   4.821553       2003\n",
       "1   4.480927   4.071657       1976\n",
       "2   7.011106   5.238161       2001\n",
       "3   6.677933   2.919039       1915\n",
       "4   9.000483   5.974170       2000"
      ]
     },
     "execution_count": 12,
     "metadata": {},
     "output_type": "execute_result"
    }
   ],
   "source": [
    "#Normalizing variables in the range 0 to 20 - Min-max normalization method.\n",
    "#Min-max normalization subtracts the min. value in the feature and then divides \n",
    "#by the range for each feature. The range is the difference between the original \n",
    "#maximum and original minimum. This is a good method for preserving the shape of\n",
    "#the original distribution.\n",
    "\n",
    "new_data[\"GrLivArea\"]=((new_data[\"GrLivArea\"]-new_data[\"GrLivArea\"].min())/\n",
    "                        (new_data[\"GrLivArea\"].max()-new_data[\"GrLivArea\"].min()))*20\n",
    "new_data[\"SalePrice\"]=((new_data[\"SalePrice\"]-new_data[\"SalePrice\"].min())/\n",
    "                        (new_data[\"SalePrice\"].max()-new_data[\"SalePrice\"].min()))*20\n",
    "new_data.head(5)"
   ]
  },
  {
   "cell_type": "markdown",
   "metadata": {},
   "source": [
    "#### Modeling"
   ]
  },
  {
   "cell_type": "code",
   "execution_count": 13,
   "metadata": {},
   "outputs": [],
   "source": [
    "from sklearn import linear_model\n",
    "from sklearn.model_selection import train_test_split\n",
    "from sklearn.metrics import mean_squared_error, r2_score\n",
    "\n",
    "new_data = new_data.reset_index()\n",
    "input_var = new_data.filter(['GrLivArea'])\n",
    "target_var = new_data.filter(['SalePrice'])\n"
   ]
  },
  {
   "cell_type": "code",
   "execution_count": 14,
   "metadata": {},
   "outputs": [
    {
     "name": "stdout",
     "output_type": "stream",
     "text": [
      "(1166, 1) (1166, 1)\n",
      "(292, 1) (292, 1)\n"
     ]
    }
   ],
   "source": [
    "#Splitting the data 80/20\n",
    "\n",
    "X_train, X_test, y_train, y_test = train_test_split(input_var, target_var, test_size=0.2)\n",
    "print(X_train.shape, y_train.shape)\n",
    "print(X_test.shape, y_test.shape)"
   ]
  },
  {
   "cell_type": "code",
   "execution_count": 15,
   "metadata": {},
   "outputs": [],
   "source": [
    "#Fitting the model on the training data and predicting test data\n",
    "\n",
    "linear_mod = linear_model.LinearRegression() #Running Linear Regression Model\n",
    "model = linear_mod.fit(X_train, y_train) #Training the model\n",
    "predictions = linear_mod.predict(X_test) #Making predictions"
   ]
  },
  {
   "cell_type": "code",
   "execution_count": 16,
   "metadata": {},
   "outputs": [
    {
     "data": {
      "text/plain": [
       "array([[3.44348289],\n",
       "       [3.68233751],\n",
       "       [2.6451195 ],\n",
       "       [2.99849346],\n",
       "       [2.09542667]])"
      ]
     },
     "execution_count": 16,
     "metadata": {},
     "output_type": "execute_result"
    }
   ],
   "source": [
    "#Printing the first five predictions on test data\n",
    "\n",
    "predictions[0:5]"
   ]
  },
  {
   "cell_type": "code",
   "execution_count": 17,
   "metadata": {},
   "outputs": [
    {
     "name": "stdout",
     "output_type": "stream",
     "text": [
      "Coefficient: [[0.67762729]]\n"
     ]
    }
   ],
   "source": [
    "#Finding R-value to see how much variance in the data is explained by the model\n",
    "print('Coefficient:', model.coef_)"
   ]
  },
  {
   "cell_type": "markdown",
   "metadata": {},
   "source": [
    ">0.65 is not a very strong correlation, but it is not bad either. This means that these variables are more related to each other than not."
   ]
  },
  {
   "cell_type": "code",
   "execution_count": 18,
   "metadata": {},
   "outputs": [
    {
     "name": "stdout",
     "output_type": "stream",
     "text": [
      "Mean Squared Error: 2.28\n"
     ]
    }
   ],
   "source": [
    "#Calculating the Mean Squared Error - Loss Function\n",
    "print(\"Mean Squared Error: %.2f\"\n",
    "      % mean_squared_error(y_test, predictions))"
   ]
  },
  {
   "cell_type": "code",
   "execution_count": 19,
   "metadata": {},
   "outputs": [
    {
     "name": "stdout",
     "output_type": "stream",
     "text": [
      "Variance score: 0.51\n"
     ]
    }
   ],
   "source": [
    "#Finding the variance score - higher number in the range 0-1 is better\n",
    "print('Variance score: %.2f' % r2_score(y_test, predictions))"
   ]
  },
  {
   "cell_type": "code",
   "execution_count": 20,
   "metadata": {},
   "outputs": [
    {
     "data": {
      "image/png": "[encoded data removed]",
      "text/plain": [
       "<Figure size 432x288 with 1 Axes>"
      ]
     },
     "metadata": {},
     "output_type": "display_data"
    }
   ],
   "source": [
    "#Visualizing the results of the prediction/ plotting the model\n",
    "\n",
    "plt.scatter(X_test, y_test,  color='orange')\n",
    "plt.plot(X_test, predictions, color='blue', linewidth=3)\n",
    "\n",
    "plt.xticks((np.arange(0, 30, 5)))\n",
    "plt.yticks((np.arange(-5, 30, 5)))\n",
    "\n",
    "plt.show()"
   ]
  },
  {
   "cell_type": "code",
   "execution_count": 21,
   "metadata": {},
   "outputs": [
    {
     "name": "stdout",
     "output_type": "stream",
     "text": [
      "Score: 0.51253988924545\n"
     ]
    }
   ],
   "source": [
    "print(\"Score:\", model.score(X_test, y_test))"
   ]
  },
  {
   "cell_type": "code",
   "execution_count": 22,
   "metadata": {},
   "outputs": [
    {
     "data": {
      "image/png": "[encoded data removed]",
      "text/plain": [
       "<Figure size 432x288 with 1 Axes>"
      ]
     },
     "metadata": {},
     "output_type": "display_data"
    }
   ],
   "source": [
    "target_test = target_var[:292]\n",
    "\n",
    "res = target_test - predictions\n",
    "res_prop = res / target_test\n",
    "plt.scatter(np.arange(len(res_prop)), res_prop, s=15)\n",
    "plt.axhline(0, c='black')\n",
    "plt.title('Residual proportions (residual/SalePrice)')\n",
    "plt.xlabel('Index of row in data')\n",
    "plt.ylabel('Error proportion');"
   ]
  },
  {
   "cell_type": "markdown",
   "metadata": {},
   "source": [
    "This looks like a good enough model. But we don't know how the data was split, specifically we don't know if the split was random enough. I'll use k-fold cross-validation method to validate this."
   ]
  },
  {
   "cell_type": "markdown",
   "metadata": {},
   "source": [
    "#### K-Folds Cross Validation"
   ]
  },
  {
   "cell_type": "code",
   "execution_count": 23,
   "metadata": {},
   "outputs": [
    {
     "name": "stdout",
     "output_type": "stream",
     "text": [
      "TRAIN: [ 243  244  245 ... 1455 1456 1457] TEST: [  0   1   2   3   4   5   6   7   8   9  10  11  12  13  14  15  16  17\n",
      "  18  19  20  21  22  23  24  25  26  27  28  29  30  31  32  33  34  35\n",
      "  36  37  38  39  40  41  42  43  44  45  46  47  48  49  50  51  52  53\n",
      "  54  55  56  57  58  59  60  61  62  63  64  65  66  67  68  69  70  71\n",
      "  72  73  74  75  76  77  78  79  80  81  82  83  84  85  86  87  88  89\n",
      "  90  91  92  93  94  95  96  97  98  99 100 101 102 103 104 105 106 107\n",
      " 108 109 110 111 112 113 114 115 116 117 118 119 120 121 122 123 124 125\n",
      " 126 127 128 129 130 131 132 133 134 135 136 137 138 139 140 141 142 143\n",
      " 144 145 146 147 148 149 150 151 152 153 154 155 156 157 158 159 160 161\n",
      " 162 163 164 165 166 167 168 169 170 171 172 173 174 175 176 177 178 179\n",
      " 180 181 182 183 184 185 186 187 188 189 190 191 192 193 194 195 196 197\n",
      " 198 199 200 201 202 203 204 205 206 207 208 209 210 211 212 213 214 215\n",
      " 216 217 218 219 220 221 222 223 224 225 226 227 228 229 230 231 232 233\n",
      " 234 235 236 237 238 239 240 241 242]\n",
      "TRAIN: [   0    1    2 ... 1455 1456 1457] TEST: [243 244 245 246 247 248 249 250 251 252 253 254 255 256 257 258 259 260\n",
      " 261 262 263 264 265 266 267 268 269 270 271 272 273 274 275 276 277 278\n",
      " 279 280 281 282 283 284 285 286 287 288 289 290 291 292 293 294 295 296\n",
      " 297 298 299 300 301 302 303 304 305 306 307 308 309 310 311 312 313 314\n",
      " 315 316 317 318 319 320 321 322 323 324 325 326 327 328 329 330 331 332\n",
      " 333 334 335 336 337 338 339 340 341 342 343 344 345 346 347 348 349 350\n",
      " 351 352 353 354 355 356 357 358 359 360 361 362 363 364 365 366 367 368\n",
      " 369 370 371 372 373 374 375 376 377 378 379 380 381 382 383 384 385 386\n",
      " 387 388 389 390 391 392 393 394 395 396 397 398 399 400 401 402 403 404\n",
      " 405 406 407 408 409 410 411 412 413 414 415 416 417 418 419 420 421 422\n",
      " 423 424 425 426 427 428 429 430 431 432 433 434 435 436 437 438 439 440\n",
      " 441 442 443 444 445 446 447 448 449 450 451 452 453 454 455 456 457 458\n",
      " 459 460 461 462 463 464 465 466 467 468 469 470 471 472 473 474 475 476\n",
      " 477 478 479 480 481 482 483 484 485]\n",
      "TRAIN: [   0    1    2 ... 1455 1456 1457] TEST: [486 487 488 489 490 491 492 493 494 495 496 497 498 499 500 501 502 503\n",
      " 504 505 506 507 508 509 510 511 512 513 514 515 516 517 518 519 520 521\n",
      " 522 523 524 525 526 527 528 529 530 531 532 533 534 535 536 537 538 539\n",
      " 540 541 542 543 544 545 546 547 548 549 550 551 552 553 554 555 556 557\n",
      " 558 559 560 561 562 563 564 565 566 567 568 569 570 571 572 573 574 575\n",
      " 576 577 578 579 580 581 582 583 584 585 586 587 588 589 590 591 592 593\n",
      " 594 595 596 597 598 599 600 601 602 603 604 605 606 607 608 609 610 611\n",
      " 612 613 614 615 616 617 618 619 620 621 622 623 624 625 626 627 628 629\n",
      " 630 631 632 633 634 635 636 637 638 639 640 641 642 643 644 645 646 647\n",
      " 648 649 650 651 652 653 654 655 656 657 658 659 660 661 662 663 664 665\n",
      " 666 667 668 669 670 671 672 673 674 675 676 677 678 679 680 681 682 683\n",
      " 684 685 686 687 688 689 690 691 692 693 694 695 696 697 698 699 700 701\n",
      " 702 703 704 705 706 707 708 709 710 711 712 713 714 715 716 717 718 719\n",
      " 720 721 722 723 724 725 726 727 728]\n",
      "TRAIN: [   0    1    2 ... 1455 1456 1457] TEST: [729 730 731 732 733 734 735 736 737 738 739 740 741 742 743 744 745 746\n",
      " 747 748 749 750 751 752 753 754 755 756 757 758 759 760 761 762 763 764\n",
      " 765 766 767 768 769 770 771 772 773 774 775 776 777 778 779 780 781 782\n",
      " 783 784 785 786 787 788 789 790 791 792 793 794 795 796 797 798 799 800\n",
      " 801 802 803 804 805 806 807 808 809 810 811 812 813 814 815 816 817 818\n",
      " 819 820 821 822 823 824 825 826 827 828 829 830 831 832 833 834 835 836\n",
      " 837 838 839 840 841 842 843 844 845 846 847 848 849 850 851 852 853 854\n",
      " 855 856 857 858 859 860 861 862 863 864 865 866 867 868 869 870 871 872\n",
      " 873 874 875 876 877 878 879 880 881 882 883 884 885 886 887 888 889 890\n",
      " 891 892 893 894 895 896 897 898 899 900 901 902 903 904 905 906 907 908\n",
      " 909 910 911 912 913 914 915 916 917 918 919 920 921 922 923 924 925 926\n",
      " 927 928 929 930 931 932 933 934 935 936 937 938 939 940 941 942 943 944\n",
      " 945 946 947 948 949 950 951 952 953 954 955 956 957 958 959 960 961 962\n",
      " 963 964 965 966 967 968 969 970 971]\n",
      "TRAIN: [   0    1    2 ... 1455 1456 1457] TEST: [ 972  973  974  975  976  977  978  979  980  981  982  983  984  985\n",
      "  986  987  988  989  990  991  992  993  994  995  996  997  998  999\n",
      " 1000 1001 1002 1003 1004 1005 1006 1007 1008 1009 1010 1011 1012 1013\n",
      " 1014 1015 1016 1017 1018 1019 1020 1021 1022 1023 1024 1025 1026 1027\n",
      " 1028 1029 1030 1031 1032 1033 1034 1035 1036 1037 1038 1039 1040 1041\n",
      " 1042 1043 1044 1045 1046 1047 1048 1049 1050 1051 1052 1053 1054 1055\n",
      " 1056 1057 1058 1059 1060 1061 1062 1063 1064 1065 1066 1067 1068 1069\n",
      " 1070 1071 1072 1073 1074 1075 1076 1077 1078 1079 1080 1081 1082 1083\n",
      " 1084 1085 1086 1087 1088 1089 1090 1091 1092 1093 1094 1095 1096 1097\n",
      " 1098 1099 1100 1101 1102 1103 1104 1105 1106 1107 1108 1109 1110 1111\n",
      " 1112 1113 1114 1115 1116 1117 1118 1119 1120 1121 1122 1123 1124 1125\n",
      " 1126 1127 1128 1129 1130 1131 1132 1133 1134 1135 1136 1137 1138 1139\n",
      " 1140 1141 1142 1143 1144 1145 1146 1147 1148 1149 1150 1151 1152 1153\n",
      " 1154 1155 1156 1157 1158 1159 1160 1161 1162 1163 1164 1165 1166 1167\n",
      " 1168 1169 1170 1171 1172 1173 1174 1175 1176 1177 1178 1179 1180 1181\n",
      " 1182 1183 1184 1185 1186 1187 1188 1189 1190 1191 1192 1193 1194 1195\n",
      " 1196 1197 1198 1199 1200 1201 1202 1203 1204 1205 1206 1207 1208 1209\n",
      " 1210 1211 1212 1213 1214]\n",
      "TRAIN: [   0    1    2 ... 1212 1213 1214] TEST: [1215 1216 1217 1218 1219 1220 1221 1222 1223 1224 1225 1226 1227 1228\n",
      " 1229 1230 1231 1232 1233 1234 1235 1236 1237 1238 1239 1240 1241 1242\n",
      " 1243 1244 1245 1246 1247 1248 1249 1250 1251 1252 1253 1254 1255 1256\n",
      " 1257 1258 1259 1260 1261 1262 1263 1264 1265 1266 1267 1268 1269 1270\n",
      " 1271 1272 1273 1274 1275 1276 1277 1278 1279 1280 1281 1282 1283 1284\n",
      " 1285 1286 1287 1288 1289 1290 1291 1292 1293 1294 1295 1296 1297 1298\n",
      " 1299 1300 1301 1302 1303 1304 1305 1306 1307 1308 1309 1310 1311 1312\n",
      " 1313 1314 1315 1316 1317 1318 1319 1320 1321 1322 1323 1324 1325 1326\n",
      " 1327 1328 1329 1330 1331 1332 1333 1334 1335 1336 1337 1338 1339 1340\n",
      " 1341 1342 1343 1344 1345 1346 1347 1348 1349 1350 1351 1352 1353 1354\n",
      " 1355 1356 1357 1358 1359 1360 1361 1362 1363 1364 1365 1366 1367 1368\n",
      " 1369 1370 1371 1372 1373 1374 1375 1376 1377 1378 1379 1380 1381 1382\n",
      " 1383 1384 1385 1386 1387 1388 1389 1390 1391 1392 1393 1394 1395 1396\n",
      " 1397 1398 1399 1400 1401 1402 1403 1404 1405 1406 1407 1408 1409 1410\n",
      " 1411 1412 1413 1414 1415 1416 1417 1418 1419 1420 1421 1422 1423 1424\n",
      " 1425 1426 1427 1428 1429 1430 1431 1432 1433 1434 1435 1436 1437 1438\n",
      " 1439 1440 1441 1442 1443 1444 1445 1446 1447 1448 1449 1450 1451 1452\n",
      " 1453 1454 1455 1456 1457]\n"
     ]
    }
   ],
   "source": [
    "from sklearn.model_selection import KFold \n",
    "\n",
    "kf = KFold(n_splits=6)  \n",
    "kf.get_n_splits(input_var) # Returns the number of splitting iterations in the cross-validator\n",
    " \n",
    "KFold(n_splits=6, random_state=None, shuffle=False)\n",
    "\n",
    "for train_index, test_index in kf.split(input_var.index):\n",
    "    print('TRAIN:', train_index, 'TEST:', test_index)\n",
    "    X_train, X_test = input_var[train_index[0]:train_index[-1]], input_var[test_index[0]:test_index[-1]]\n",
    "    y_train, y_test = target_var[train_index[0]:train_index[-1]], target_var[test_index[0]:test_index[-1]]"
   ]
  },
  {
   "cell_type": "code",
   "execution_count": 24,
   "metadata": {},
   "outputs": [
    {
     "name": "stdout",
     "output_type": "stream",
     "text": [
      "Cross-validated scores: [0.57341027 0.55157261 0.58357347 0.52382954 0.57599302 0.3722741 ]\n"
     ]
    }
   ],
   "source": [
    "from sklearn.model_selection import cross_val_score, cross_val_predict\n",
    "from sklearn import metrics\n",
    "\n",
    "# Performing 6-fold cross validation\n",
    "scores = cross_val_score(model, input_var, target_var, cv=6) \n",
    "\n",
    "print('Cross-validated scores:', scores)"
   ]
  },
  {
   "cell_type": "code",
   "execution_count": 25,
   "metadata": {},
   "outputs": [
    {
     "data": {
      "image/png": "[encoded data removed]",
      "text/plain": [
       "<Figure size 432x288 with 1 Axes>"
      ]
     },
     "metadata": {},
     "output_type": "display_data"
    }
   ],
   "source": [
    "# Visualizing the cross-validated predictions\n",
    "\n",
    "predictions = cross_val_predict(model, input_var, target_var, cv=6)\n",
    "plt.scatter(target_var, predictions)\n",
    "\n",
    "plt.xticks((np.arange(0, 30, 5)))\n",
    "plt.yticks((np.arange(-5, 30, 5)))\n",
    "\n",
    "plt.show()"
   ]
  },
  {
   "cell_type": "markdown",
   "metadata": {},
   "source": [
    ">This scatterplot looks a little different than the earlier scatterplot with the 80/20 data split."
   ]
  },
  {
   "cell_type": "code",
   "execution_count": 26,
   "metadata": {},
   "outputs": [
    {
     "name": "stdout",
     "output_type": "stream",
     "text": [
      "Cross-Predicted Accuracy: 0.5374680507296321\n"
     ]
    }
   ],
   "source": [
    "accuracy = metrics.r2_score(target_var, predictions)\n",
    "print (\"Cross-Predicted Accuracy:\", accuracy)"
   ]
  },
  {
   "cell_type": "markdown",
   "metadata": {},
   "source": [
    ">The accuracy score of the earlier model with the 80/20 split (0.577) is more than the accuracy of this model (0.537), so I'll use the original model."
   ]
  },
  {
   "cell_type": "markdown",
   "metadata": {},
   "source": [
    "Calculating slope of the original model."
   ]
  },
  {
   "cell_type": "code",
   "execution_count": 27,
   "metadata": {},
   "outputs": [
    {
     "data": {
      "text/plain": [
       "array([[-9.93401189],\n",
       "       [ 0.23039744]])"
      ]
     },
     "execution_count": 27,
     "metadata": {},
     "output_type": "execute_result"
    }
   ],
   "source": [
    "find_slope = make_array(-15, 0)\n",
    "find_slope = find_slope.reshape(-1, 1)\n",
    "intercepts = model.predict(find_slope)\n",
    "intercepts"
   ]
  },
  {
   "cell_type": "code",
   "execution_count": 28,
   "metadata": {},
   "outputs": [
    {
     "name": "stdout",
     "output_type": "stream",
     "text": [
      "Slope of our regression line is [0.68]\n"
     ]
    }
   ],
   "source": [
    "regression_slope = (np.abs(intercepts[0]) + np.abs(intercepts[1]))/(15)\n",
    "print(\"Slope of our regression line is\",np.round(regression_slope, 2))"
   ]
  },
  {
   "cell_type": "code",
   "execution_count": 29,
   "metadata": {},
   "outputs": [],
   "source": [
    "#Checking if the slope falls within the 95% confidence interval\n",
    "\n",
    "from scipy import stats\n",
    "\n",
    "def correlation(b, label_x, label_y):\n",
    "    return np.mean(stats.zscore(b.column(label_x))*stats.zscore(b.column(label_y)))\n",
    "\n",
    "def slope(b, label_x, label_y):\n",
    "    r = correlation(b, label_x, label_y)\n",
    "    return r*np.std(b.column(label_y))/np.std(b.column(label_x))\n",
    "\n",
    "def intercept(b, label_x, label_y):\n",
    "    return np.mean(b.column(label_y)) - slope(b, label_x, label_y)*np.mean(b.column(label_x))\n"
   ]
  },
  {
   "cell_type": "code",
   "execution_count": 30,
   "metadata": {},
   "outputs": [
    {
     "name": "stdout",
     "output_type": "stream",
     "text": [
      "Slope of our regression line: [0.67762729]\n",
      "95%-confidence interval for the true slope:\n",
      "0.6411888506437139 0.6810424503846685\n"
     ]
    },
    {
     "data": {
      "image/png": "[encoded data removed]",
      "text/plain": [
       "<Figure size 432x288 with 1 Axes>"
      ]
     },
     "metadata": {},
     "output_type": "display_data"
    }
   ],
   "source": [
    "#Bootstrapping slopes using datascience functions\n",
    "\n",
    "slopes = make_array()\n",
    "new_data_ds = Table.from_df(new_data) # Switching from pandas to DataScience\n",
    "\n",
    "for i in np.arange(5000):\n",
    "    bootstrap_sample = new_data_ds.sample(10000)\n",
    "    bootstrap_slope = slope(bootstrap_sample, 'GrLivArea', 'SalePrice')\n",
    "    slopes = np.append(slopes, bootstrap_slope)\n",
    "Table().with_column('Bootstrap Slopes', slopes).hist(bins=20)\n",
    "\n",
    "# Setting upper and lower bounds of the confidence interval\n",
    "left = percentile(2.5, slopes)\n",
    "right = percentile(97.5, slopes)\n",
    "\n",
    "\n",
    "plt.plot(make_array(left, right), make_array(0, 0), color='yellow', lw=8);\n",
    "plt.plot(regression_slope, 0, marker='o', markersize=15, color=\"red\")\n",
    "print('Slope of our regression line:', regression_slope)\n",
    "print('95%-confidence interval for the true slope:')\n",
    "print(left, right)"
   ]
  },
  {
   "cell_type": "markdown",
   "metadata": {},
   "source": [
    "The regression slope falls inside the interval of the bootstrapped slopes. Thus, this looks like a good enough model to be used for prediction."
   ]
  },
  {
   "cell_type": "markdown",
   "metadata": {},
   "source": [
    "#### Loss functions:\n",
    "#### Mean Squared Error was 2.63."
   ]
  },
  {
   "cell_type": "code",
   "execution_count": 31,
   "metadata": {},
   "outputs": [
    {
     "data": {
      "text/plain": [
       "SalePrice    486.414665\n",
       "dtype: float64"
      ]
     },
     "execution_count": 31,
     "metadata": {},
     "output_type": "execute_result"
    }
   ],
   "source": [
    "#Other loss functions\n",
    "#Minimum Squared Error\n",
    "\n",
    "def mse_loss(theta, y_vals):\n",
    "    return np.mean((y_vals - theta) ** 2)\n",
    "\n",
    "mse_loss(26, target_var)"
   ]
  },
  {
   "cell_type": "code",
   "execution_count": 32,
   "metadata": {},
   "outputs": [
    {
     "data": {
      "image/png": "[encoded data removed]",
      "text/plain": [
       "<Figure size 432x288 with 1 Axes>"
      ]
     },
     "metadata": {},
     "output_type": "display_data"
    }
   ],
   "source": [
    "sns.distplot(target_var, bins=np.arange(40), rug=True)\n",
    "plt.xlim(0, 40)\n",
    "plt.xlabel('Sale Price')\n",
    "plt.ylabel('Proportion per percent');"
   ]
  },
  {
   "cell_type": "markdown",
   "metadata": {},
   "source": [
    ">The sale prices look very low because they are normalized to be in the range 0-20. In the normalized form, the theta should be around 2-3."
   ]
  },
  {
   "cell_type": "code",
   "execution_count": 33,
   "metadata": {},
   "outputs": [
    {
     "data": {
      "image/png": "[encoded data removed]",
      "text/plain": [
       "<Figure size 432x288 with 1 Axes>"
      ]
     },
     "metadata": {},
     "output_type": "display_data"
    }
   ],
   "source": [
    "#Calculating theta\n",
    "\n",
    "thetas = np.arange(0, 10, 0.05)\n",
    "losses = [mse_loss(theta, target_var) for theta in thetas]\n",
    "\n",
    "plt.scatter(thetas, losses)\n",
    "plt.title(r'Loss vs. $ \\theta $ for sale prices')\n",
    "plt.xlabel(r'$ \\theta $ Values')\n",
    "plt.ylabel('Loss');"
   ]
  },
  {
   "cell_type": "markdown",
   "metadata": {},
   "source": [
    ">The value of theta that minimizes loss seems to be 4. I had guessed the theta to be somewhere between 2-3 (in the peak of the distribution), but it turned out to be different, which is fine. "
   ]
  },
  {
   "cell_type": "markdown",
   "metadata": {},
   "source": [
    "# 5."
   ]
  },
  {
   "cell_type": "markdown",
   "metadata": {},
   "source": [
    "Summarize and interpret your results including at least four data visualizations.  Provide an evaluation of your approach and discuss any limitations of the methods you used.  (2 points)"
   ]
  },
  {
   "cell_type": "markdown",
   "metadata": {},
   "source": [
    ">I think that I took a pretty reasonable approach to predict the sale prices of homes in Ames based on the living area above ground. I used EDA, 80/20 splits for training and testing, and k-folds cross validation to come up with a good enough Linear Regression Model. The Mean Squared Error(MSE) used to calculate loss function is also one of the simplest and interpretable functions. Plus I also did the additional Minimum Squared Error loss function to calculate ideal theta value."
   ]
  },
  {
   "cell_type": "code",
   "execution_count": null,
   "metadata": {},
   "outputs": [],
   "source": []
  }
 ],
 "metadata": {
  "kernelspec": {
   "display_name": "Python 3",
   "language": "python",
   "name": "python3"
  },
  "language_info": {
   "codemirror_mode": {
    "name": "ipython",
    "version": 3
   },
   "file_extension": ".py",
   "mimetype": "text/x-python",
   "name": "python",
   "nbconvert_exporter": "python",
   "pygments_lexer": "ipython3",
   "version": "3.7.4"
  }
 },
 "nbformat": 4,
 "nbformat_minor": 2
}
